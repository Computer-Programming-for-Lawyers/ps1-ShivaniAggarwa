{
 "cells": [
  {
   "cell_type": "code",
   "execution_count": 7,
   "metadata": {},
   "outputs": [
    {
     "name": "stdout",
     "output_type": "stream",
     "text": [
      "True\n",
      "True\n",
      "False\n"
     ]
    }
   ],
   "source": [
    "print(True or True)\n",
    "print(True or False)\n",
    "print(False or False)"
   ]
  },
  {
   "cell_type": "code",
   "execution_count": 52,
   "metadata": {},
   "outputs": [
    {
     "name": "stdout",
     "output_type": "stream",
     "text": [
      "You can take i-42: True\n"
     ]
    }
   ],
   "source": [
    "r = 'morning'\n",
    "d = 'east'\n",
    "w = 'yes' \n",
    "n = '2'\n",
    "\n",
    "rush_hour = (r == 'morning' or r == 'evening')\n",
    "direction = (d == 'east' or d == 'west')\n",
    "\n",
    "\n",
    "willing =  (w == 'yes') \n",
    "number_of_people = (int(n) >= 3)\n",
    "\n",
    "morning_rh = (r == 'morning' and d == 'east')\n",
    "evening_rh = (r == 'evening' and d == 'west')\n",
    "\n",
    "rh_in_effect = morning_rh or evening_rh\n",
    "# Can I go on I-42??\n",
    "# True OR False\n",
    "print(rh_in_effect == False or)\n",
    "\n",
    "\n",
    "\n",
    "\n",
    "print(f\"You can take i-42: {str(willing) or str(number_of_people)}\")\n",
    "\n",
    "\n"
   ]
  },
  {
   "cell_type": "code",
   "execution_count": 51,
   "metadata": {},
   "outputs": [
    {
     "name": "stdout",
     "output_type": "stream",
     "text": [
      "You can take i-42: False\n"
     ]
    }
   ],
   "source": [
    "r = 'evening'\n",
    "d = 'west'\n",
    "w = 'no' \n",
    "n = '1'\n",
    "rush_hour = (r == 'morning' or r == 'evening')\n",
    "direction = (d == 'east' or d == 'west')\n",
    "willing =  (w == 'yes') \n",
    "number_of_people = (int(n) >= 3)\n",
    "\n",
    "\n",
    "\n",
    "\n",
    "\n",
    "print(f\"You can take i-42: {str(willing) or str(number_of_people)}\")\n"
   ]
  },
  {
   "cell_type": "code",
   "execution_count": 64,
   "metadata": {},
   "outputs": [
    {
     "ename": "TypeError",
     "evalue": "'>=' not supported between instances of 'str' and 'bool'",
     "output_type": "error",
     "traceback": [
      "\u001b[0;31m---------------------------------------------------------------------------\u001b[0m",
      "\u001b[0;31mTypeError\u001b[0m                                 Traceback (most recent call last)",
      "Cell \u001b[0;32mIn[64], line 4\u001b[0m\n\u001b[1;32m      2\u001b[0m d \u001b[38;5;241m=\u001b[39m \u001b[38;5;124m'\u001b[39m\u001b[38;5;124meast\u001b[39m\u001b[38;5;124m'\u001b[39m \u001b[38;5;129;01mor\u001b[39;00m \u001b[38;5;124m'\u001b[39m\u001b[38;5;124mwest\u001b[39m\u001b[38;5;124m'\u001b[39m\n\u001b[1;32m      3\u001b[0m w \u001b[38;5;241m=\u001b[39m \u001b[38;5;124m'\u001b[39m\u001b[38;5;124myes\u001b[39m\u001b[38;5;124m'\u001b[39m\n\u001b[0;32m----> 4\u001b[0m \u001b[43mn\u001b[49m\u001b[43m \u001b[49m\u001b[38;5;241;43m>\u001b[39;49m\u001b[38;5;241;43m=\u001b[39;49m\u001b[43m \u001b[49m\u001b[43m(\u001b[49m\u001b[38;5;28;43mint\u001b[39;49m\u001b[43m(\u001b[49m\u001b[43mn\u001b[49m\u001b[43m)\u001b[49m\u001b[43m \u001b[49m\u001b[38;5;241;43m>\u001b[39;49m\u001b[38;5;241;43m=\u001b[39;49m\u001b[43m \u001b[49m\u001b[38;5;241;43m3\u001b[39;49m\u001b[43m)\u001b[49m\n\u001b[1;32m      5\u001b[0m rush_hour \u001b[38;5;241m=\u001b[39m (r \u001b[38;5;241m==\u001b[39m \u001b[38;5;124m'\u001b[39m\u001b[38;5;124mmorning\u001b[39m\u001b[38;5;124m'\u001b[39m \u001b[38;5;129;01mor\u001b[39;00m r \u001b[38;5;241m==\u001b[39m \u001b[38;5;124m'\u001b[39m\u001b[38;5;124mevening\u001b[39m\u001b[38;5;124m'\u001b[39m)\n\u001b[1;32m      6\u001b[0m direction \u001b[38;5;241m=\u001b[39m (d \u001b[38;5;241m==\u001b[39m \u001b[38;5;124m'\u001b[39m\u001b[38;5;124meast\u001b[39m\u001b[38;5;124m'\u001b[39m \u001b[38;5;129;01mor\u001b[39;00m d \u001b[38;5;241m==\u001b[39m \u001b[38;5;124m'\u001b[39m\u001b[38;5;124mwest\u001b[39m\u001b[38;5;124m'\u001b[39m)\n",
      "\u001b[0;31mTypeError\u001b[0m: '>=' not supported between instances of 'str' and 'bool'"
     ]
    }
   ],
   "source": [
    "r = 'evening' or 'morning'\n",
    "d = 'east' or 'west'\n",
    "w = 'yes'\n",
    "n >= (int(n) >= 3)\n",
    "rush_hour = (r == 'morning' or r == 'evening')\n",
    "direction = (d == 'east' or d == 'west')\n",
    "print(f\"You can take i-42: {str(number_of_people) or str(willing)}\")\n"
   ]
  },
  {
   "cell_type": "code",
   "execution_count": 10,
   "metadata": {},
   "outputs": [
    {
     "name": "stdout",
     "output_type": "stream",
     "text": [
      "You can take i-42: True\n"
     ]
    }
   ],
   "source": [
    "r = 'evening' or 'morning'\n",
    "d = 'east' or 'west'\n",
    "w = 'yes'\n",
    "n != '3' or '2' or '1' \n",
    "\n",
    "rush_hour = (r == 'morning')\n",
    "direction = (d == 'east' or d == 'east')\n",
    "willing =  (w == 'yes') \n",
    "number_of_people = (n == 2)\n",
    "\n",
    "\n",
    "print(f\"You can take i-42: {str(willing) or str(number_of_people)}\")"
   ]
  },
  {
   "cell_type": "code",
   "execution_count": 14,
   "metadata": {},
   "outputs": [
    {
     "name": "stdout",
     "output_type": "stream",
     "text": [
      "You can take i-42: False\n"
     ]
    }
   ],
   "source": [
    "r = 'evening' or 'morning'\n",
    "d = 'east' or 'west'\n",
    "w = 'yes'\n",
    "n != '3' or '2' or '1' \n",
    "\n",
    "rush_hour = (r == 'evening')\n",
    "direction = (d == 'west' or d == 'east')\n",
    "willing =  (w == 'no') \n",
    "number_of_people = (n == 1)\n",
    "\n",
    "\n",
    "print(f\"You can take i-42: {str(willing) or str(number_of_people)}\")"
   ]
  },
  {
   "cell_type": "code",
   "execution_count": 16,
   "metadata": {},
   "outputs": [
    {
     "name": "stdout",
     "output_type": "stream",
     "text": [
      "You can take i-42: False\n"
     ]
    }
   ],
   "source": [
    "r = 'evening' or 'evening'\n",
    "d = 'east' or 'west'\n",
    "w = 'no'\n",
    "n != '3' or '2' or '1' \n",
    "\n",
    "rush_hour = (r == 'evening')\n",
    "direction = (d == 'west')\n",
    "willing =  (w == 'no') \n",
    "number_of_people = (n == 1)\n",
    "\n",
    "\n",
    "print(f\"You can take i-42: {str(number_of_people) or str(willing)}\")"
   ]
  },
  {
   "cell_type": "code",
   "execution_count": null,
   "metadata": {},
   "outputs": [],
   "source": [
    "rush_hour = input(\"Is it rush hour right now?\")\n",
    "direction = input(\"In which direction are you travelling?\")\n",
    "Number_of_people = "
   ]
  }
 ],
 "metadata": {
  "kernelspec": {
   "display_name": "Python 3",
   "language": "python",
   "name": "python3"
  },
  "language_info": {
   "codemirror_mode": {
    "name": "ipython",
    "version": 3
   },
   "file_extension": ".py",
   "mimetype": "text/x-python",
   "name": "python",
   "nbconvert_exporter": "python",
   "pygments_lexer": "ipython3",
   "version": "3.12.1"
  }
 },
 "nbformat": 4,
 "nbformat_minor": 2
}
