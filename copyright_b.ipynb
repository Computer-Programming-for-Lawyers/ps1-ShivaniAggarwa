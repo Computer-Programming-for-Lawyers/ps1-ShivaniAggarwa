{
 "cells": [
  {
   "cell_type": "code",
   "execution_count": 4,
   "metadata": {},
   "outputs": [
    {
     "name": "stdout",
     "output_type": "stream",
     "text": [
      "The month input must be a number between 1 and 12\n"
     ]
    }
   ],
   "source": [
    "year = int(input('In what year was the work published?'))\n",
    "month = int(input('In what month was the work published'))\n",
    "day = int(input('On what day was the work publsihed?'))\n",
    "notice = input('Was notice of copyrigth given?')\n",
    "renewal = input('Was the work properly renewed(manually or automatically)?')\n",
    "expiry = input('Has the original term of copyright protection expired?')\n",
    "\n",
    "if year < 1922:\n",
    "    print('The year input must be a number greater than 1922')\n",
    "if month < 1 or month > 12:\n",
    "    print('The month input must be a number between 1 and 12')\n",
    "if day < 1 or day > 31:\n",
    "    print('The day input must be a number between 1 and 31')\n"
   ]
  }
 ],
 "metadata": {
  "kernelspec": {
   "display_name": "Python 3",
   "language": "python",
   "name": "python3"
  },
  "language_info": {
   "codemirror_mode": {
    "name": "ipython",
    "version": 3
   },
   "file_extension": ".py",
   "mimetype": "text/x-python",
   "name": "python",
   "nbconvert_exporter": "python",
   "pygments_lexer": "ipython3",
   "version": "3.12.1"
  }
 },
 "nbformat": 4,
 "nbformat_minor": 2
}
