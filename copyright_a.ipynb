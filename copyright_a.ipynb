{
 "cells": [
  {
   "cell_type": "code",
   "execution_count": null,
   "metadata": {},
   "outputs": [],
   "source": []
  },
  {
   "cell_type": "code",
   "execution_count": 26,
   "metadata": {},
   "outputs": [],
   "source": [
    "year = int(input('In what year was the work published?'))\n",
    "month = int(input('In what month was the work published'))\n",
    "day = int(input('On what day was the work publsihed?'))\n",
    "notice = input('Was notice of copyrigth given?')\n",
    "renewal = input('Was the work properly renewed(manually or automatically)?')\n",
    "expiry = input('Has the original term of copyright protection expired?')\n",
    "\n",
    "if year >= 1923 and year <= 1963:\n",
    "    if month <= 12  and day <= 31:\n",
    "        if notice == 'yes':\n",
    "            if renewal == 'yes':\n",
    "                if expiry == 'no':\n",
    "                    print('In copyright')\n",
    "        else:\n",
    "            print('In public domain')\n",
    "\n",
    "elif year >= 1964:\n",
    "    if month <= 12  and day <= 31:\n",
    "        if notice == 'yes':\n",
    "                if expiry == 'no':\n",
    "                    print('In copyright')\n",
    "        else:\n",
    "            print('In public domain')\n",
    "elif year >= 1978:\n",
    "    if month <= 12  and day <= 31:\n",
    "        if notice == 'yes':\n",
    "            print('In copyright')\n",
    "        else:\n",
    "            print('In public domain')\n",
    "\n",
    "elif year == 1989:\n",
    "    if month == 1 and day <= 31:\n",
    "        if notice == 'yes':\n",
    "            print('In copyright')\n",
    "    elif month == 2 and day <=26:\n",
    "        if notice == 'yes':\n",
    "            print('In copyright')\n",
    "    elif month <= 12 and day <= 31:\n",
    "        print('In copyright')\n",
    "\n",
    "    else:\n",
    "        print('In public domain')\n",
    "\n",
    "\n",
    "elif year >= 1990:\n",
    "    if month <= 12  and day <= 31:\n",
    "        print('In copyright')\n",
    "        \n",
    "elif year >= 2003:\n",
    "    if month <= 12  and day <= 31:\n",
    "        if expiry == 'no':\n",
    "             print('in copyright')\n",
    "        else:\n",
    "            print('in public domain')\n",
    "\n",
    "else:\n",
    "    print('In public domain')\n",
    "            \n"
   ]
  },
  {
   "cell_type": "code",
   "execution_count": null,
   "metadata": {},
   "outputs": [],
   "source": [
    "year = int(input('In what year was the work published?'))\n",
    "month = int(input('In what month was the work published'))\n",
    "day = int(input('On what day was the work publsihed?'))\n",
    "notice = input('Was notice of copyrigth given?')\n",
    "renewal = input('Was the work properly renewed(manually or automatically)?')\n",
    "expiry = input('Has the original term of copyright protection expired?')\n",
    "\n"
   ]
  }
 ],
 "metadata": {
  "kernelspec": {
   "display_name": "Python 3",
   "language": "python",
   "name": "python3"
  },
  "language_info": {
   "codemirror_mode": {
    "name": "ipython",
    "version": 3
   },
   "file_extension": ".py",
   "mimetype": "text/x-python",
   "name": "python",
   "nbconvert_exporter": "python",
   "pygments_lexer": "ipython3",
   "version": "3.12.1"
  }
 },
 "nbformat": 4,
 "nbformat_minor": 2
}
