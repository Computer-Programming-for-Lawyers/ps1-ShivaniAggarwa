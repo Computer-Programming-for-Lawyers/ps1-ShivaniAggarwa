{
 "cells": [
  {
   "cell_type": "code",
   "execution_count": null,
   "metadata": {},
   "outputs": [],
   "source": [
    "another = input('Do you want to analyze another work?')\n",
    "\n",
    "while another == 'yes' or another == 'y' or another == 'Yes':\n",
    "    continue\n",
    "   \n",
    "else:\n",
    "    print('Goodbye!')\n",
    "\n",
    "\n"
   ]
  }
 ],
 "metadata": {
  "language_info": {
   "name": "python"
  }
 },
 "nbformat": 4,
 "nbformat_minor": 2
}
