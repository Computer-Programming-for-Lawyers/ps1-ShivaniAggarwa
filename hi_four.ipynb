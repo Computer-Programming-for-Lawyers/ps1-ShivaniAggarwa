{
 "cells": [
  {
   "cell_type": "code",
   "execution_count": 9,
   "metadata": {},
   "outputs": [
    {
     "name": "stdout",
     "output_type": "stream",
     "text": [
      "Hi Dave, Carol, Bob, and Alice.\n"
     ]
    }
   ],
   "source": [
    "#name1 = input('Name 1')\n",
    "#name2 = input('Name 2 ')\n",
    "#name3 = input('Name 3')\n",
    "#name4 = input('Name 4')\n",
    "\n",
    "name1 = 'Alice'\n",
    "name2 = 'Bob'\n",
    "name3 = 'Carol'\n",
    "name4 = 'Dave'\n",
    "\n",
    "if name4 == 'Dave' and name3 == 'Carol' and name2 == 'Bob' and name1 == 'Alice': \n",
    "     print(f'Hi {name4}, {name3}, {name2}, and {name1}.')\n",
    "\n"
   ]
  },
  {
   "cell_type": "code",
   "execution_count": 8,
   "metadata": {},
   "outputs": [
    {
     "name": "stdout",
     "output_type": "stream",
     "text": [
      "Hi Dave, Carol, Bob, and Alice.\n"
     ]
    }
   ],
   "source": [
    "# name1 = input('Name 1')\n",
    "# name2 = input('Name 2 ')\n",
    "# name3 = input('Name 3')\n",
    "# name4 = input('Name 4')\n",
    "\n",
    "name1 = 'Alice'\n",
    "name2 = 'Bob'\n",
    "name3 = 'Carol'\n",
    "name4 = 'Dave'\n",
    "\n",
    "print(f'Hi {name4}, {name3}, {name2}, and {name1}.')\n"
   ]
  },
  {
   "cell_type": "code",
   "execution_count": 7,
   "metadata": {},
   "outputs": [
    {
     "name": "stdout",
     "output_type": "stream",
     "text": [
      "Hi Diane, Charlie, Bonnie, and Abigail.\n"
     ]
    }
   ],
   "source": [
    "#name1 = input('Name 1')\n",
    "#name2 = input('Name 2 ')\n",
    "#name3 = input('Name 3')\n",
    "#name4 = input('Name 4')\n",
    "\n",
    "name1 = 'Abigail'\n",
    "name2 = 'Bonnie'\n",
    "name3 = 'Charlie'\n",
    "name4 = 'Diane'\n",
    "\n",
    "if name4 == 'Diane' and name3 == 'Charlie' and name2 == 'Bonnie' and name1 == 'Abigail': \n",
    "     print(f'Hi {name4}, {name3}, {name2}, and {name1}.')\n",
    "\n"
   ]
  },
  {
   "cell_type": "code",
   "execution_count": 6,
   "metadata": {},
   "outputs": [
    {
     "name": "stdout",
     "output_type": "stream",
     "text": [
      "Hi Diane, Charlie, Bonnie, and Abigail.\n"
     ]
    }
   ],
   "source": [
    "# name1 = input('Name 1')\n",
    "# name2 = input('Name 2 ')\n",
    "# name3 = input('Name 3')\n",
    "# name4 = input('Name 4')\n",
    "\n",
    "name1 = 'Abigail'\n",
    "name2 = 'Bonnie'\n",
    "name3 = 'Charlie'\n",
    "name4 = 'Diane'\n",
    "\n",
    "print(f'Hi {name4}, {name3}, {name2}, and {name1}.')\n"
   ]
  },
  {
   "cell_type": "markdown",
   "metadata": {},
   "source": [
    "No, I don't have any experience in coding.\n",
    "\n",
    "I wanted to take this course to better understand how technology works. I truly believe it will help me in my career as a tech lawyer.\n",
    "\n",
    "\"I have read, understand, and will abide by the course collaboration policy.\"\n",
    "\n",
    "It took me two days to complete this entire assignment along with readings. \n"
   ]
  }
 ],
 "metadata": {
  "kernelspec": {
   "display_name": "Python 3",
   "language": "python",
   "name": "python3"
  },
  "language_info": {
   "codemirror_mode": {
    "name": "ipython",
    "version": 3
   },
   "file_extension": ".py",
   "mimetype": "text/x-python",
   "name": "python",
   "nbconvert_exporter": "python",
   "pygments_lexer": "ipython3",
   "version": "3.12.1"
  }
 },
 "nbformat": 4,
 "nbformat_minor": 2
}
