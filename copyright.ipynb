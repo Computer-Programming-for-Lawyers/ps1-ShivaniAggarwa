{
 "cells": [
  {
   "cell_type": "code",
   "execution_count": 4,
   "metadata": {},
   "outputs": [
    {
     "ename": "SyntaxError",
     "evalue": "'continue' not properly in loop (724516038.py, line 72)",
     "output_type": "error",
     "traceback": [
      "\u001b[0;36m  Cell \u001b[0;32mIn[4], line 72\u001b[0;36m\u001b[0m\n\u001b[0;31m    continue\u001b[0m\n\u001b[0m    ^\u001b[0m\n\u001b[0;31mSyntaxError\u001b[0m\u001b[0;31m:\u001b[0m 'continue' not properly in loop\n"
     ]
    }
   ],
   "source": [
    "year = int(input('In what year was the work published?'))\n",
    "month = int(input('In what month was the work published'))\n",
    "day = int(input('On what day was the work publsihed?'))\n",
    "notice = input('Was notice of copyrigth given?')\n",
    "renewal = input('Was the work properly renewed(manually or automatically)?')\n",
    "expiry = input('Has the original term of copyright protection expired?')\n",
    "\n",
    "\n",
    "if year < 1922:\n",
    "    print('The year input must be a number greater than 1922')\n",
    "if month < 1 or month > 12:\n",
    "    print('The month input must be a number between 1 and 12')\n",
    "if day < 1 or day > 31:\n",
    "    print('The day input must be a number between 1 and 31')\n",
    "\n",
    "\n",
    "    if year >= 1923 and year <= 1963:\n",
    "        if month <= 12  and day <= 31:\n",
    "            if notice == 'yes':\n",
    "                if renewal == 'yes':\n",
    "                    if expiry == 'no':\n",
    "                        print('In copyright')\n",
    "            else:\n",
    "                print('In public domain')\n",
    "\n",
    "    elif year >= 1964:\n",
    "        if month <= 12  and day <= 31:\n",
    "            if notice == 'yes':\n",
    "                if expiry == 'no':\n",
    "                    print('In copyright')\n",
    "            else:\n",
    "                print('In public domain')\n",
    "    elif year >= 1978:\n",
    "        if month <= 12  and day <= 31:\n",
    "           if notice == 'yes':\n",
    "               print('In copyright')\n",
    "        else:\n",
    "            print('In public domain')\n",
    "\n",
    "    elif year == 1989:\n",
    "        if month == 1 and day <= 31:\n",
    "           if notice == 'yes':\n",
    "               print('In copyright')\n",
    "        elif month == 2 and day <=26:\n",
    "            if notice == 'yes':\n",
    "                print('In copyright')\n",
    "        elif month <= 12 and day <= 31:\n",
    "            print('In copyright')\n",
    "\n",
    "        else:\n",
    "            print('In public domain')\n",
    "\n",
    "\n",
    "    elif year >= 1990:\n",
    "        if month <= 12  and day <= 31:\n",
    "            print('In copyright')\n",
    "        \n",
    "    elif year >= 2003:\n",
    "        if month <= 12  and day <= 31:\n",
    "            if expiry == 'no':\n",
    "                print('in copyright')\n",
    "            else:\n",
    "                print('in public domain')\n",
    "\n",
    "    else:\n",
    "        print('In public domain')\n",
    "\n",
    "\n",
    "another = input('Do you want to analyze another work?')\n",
    "\n",
    "if another == 'yes' or another == 'y' or another == 'Yes':\n",
    "    continue \n",
    "\n",
    "else:\n",
    "    print('Goodbye!')\n",
    "\n"
   ]
  }
 ],
 "metadata": {
  "kernelspec": {
   "display_name": "Python 3",
   "language": "python",
   "name": "python3"
  },
  "language_info": {
   "codemirror_mode": {
    "name": "ipython",
    "version": 3
   },
   "file_extension": ".py",
   "mimetype": "text/x-python",
   "name": "python",
   "nbconvert_exporter": "python",
   "pygments_lexer": "ipython3",
   "version": "3.12.1"
  }
 },
 "nbformat": 4,
 "nbformat_minor": 2
}
